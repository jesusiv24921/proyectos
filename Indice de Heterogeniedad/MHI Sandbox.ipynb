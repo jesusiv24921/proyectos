{
 "cells": [
  {
   "cell_type": "markdown",
   "metadata": {},
   "source": [
    "# Import Modules "
   ]
  },
  {
   "cell_type": "code",
   "execution_count": null,
   "metadata": {},
   "outputs": [],
   "source": [
    "import numpy as np\n",
    "import pandas as pd\n",
    "\n",
    "import matplotlib.pyplot as plt\n",
    "import seaborn as sns"
   ]
  },
  {
   "cell_type": "code",
   "execution_count": null,
   "metadata": {},
   "outputs": [],
   "source": [
    "from __future__ import print_function\n",
    "from ipywidgets import interact, interactive, fixed, interact_manual\n",
    "import ipywidgets as widgets\n",
    "from IPython.display import display,clear_output"
   ]
  },
  {
   "cell_type": "markdown",
   "metadata": {},
   "source": [
    "# Prepare Dataset"
   ]
  },
  {
   "cell_type": "code",
   "execution_count": null,
   "metadata": {},
   "outputs": [],
   "source": [
    "df = pd.read_csv(\"Dataset.csv\",parse_dates=['Date'])\n",
    "\n",
    "df.columns=['date','well','oilrate','waterrate','sand']\n",
    "dt = df['date'].dt\n",
    "df.dropna(inplace=True)\n",
    "\n",
    "df.head()"
   ]
  },
  {
   "cell_type": "markdown",
   "metadata": {},
   "source": [
    "# Calculate MHI and Cum MHI"
   ]
  },
  {
   "cell_type": "code",
   "execution_count": null,
   "metadata": {},
   "outputs": [],
   "source": [
    "wells = df['well'].unique()\n",
    "sands = df['sand'].unique()"
   ]
  },
  {
   "cell_type": "code",
   "execution_count": null,
   "metadata": {},
   "outputs": [],
   "source": [
    "ave_grouped_rate = df.groupby(['sand','date']).mean()\n",
    "max_grouped_rate = df.groupby(['sand','date']).max()\n",
    "min_grouped_rate = df.groupby(['sand','date']).min()"
   ]
  },
  {
   "cell_type": "code",
   "execution_count": null,
   "metadata": {},
   "outputs": [],
   "source": [
    "hi_types = {\n",
    "    'hi_oil':'oilrate',\n",
    "    'hi_water':'waterrate'\n",
    "}\n",
    "\n",
    "def calc_HI(row):\n",
    "    if row[hi_types[key]] > 0:\n",
    "        return (row[hi_types[key]]-ave_grouped_rate.loc[(row['sand'],row['date']),hi_types[key]])/\\\n",
    "             (max_grouped_rate.loc[(row['sand'],row['date']),hi_types[key]]-min_grouped_rate.loc[(row['sand'],row['date']),hi_types[key]])\n",
    "    else:\n",
    "        return 0\n",
    "    \n",
    "for key in hi_types.keys():\n",
    "    df[key] = df.apply(lambda row: calc_HI(row),axis=1)\n",
    "    df['cum_'+ key] = df.groupby('well').cumsum()[key]"
   ]
  },
  {
   "cell_type": "markdown",
   "metadata": {},
   "source": [
    "# Classify Wells to Quadrants"
   ]
  },
  {
   "cell_type": "code",
   "execution_count": null,
   "metadata": {},
   "outputs": [],
   "source": [
    "def classify(df):\n",
    "    w_dict = {}\n",
    "    \n",
    "    for w in df['well'].unique():\n",
    "        last_cum_hi_oil = df[(df['well']==w) & (df['date']==df[df['well']==w]['date'].max())]['cum_hi_oil'].iloc[0]\n",
    "        last_cum_hi_water = df[(df['well']==w) & (df['date']==df[df['well']==w]['date'].max())]['cum_hi_water'].iloc[0]\n",
    "        \n",
    "        if last_cum_hi_oil > 0 and last_cum_hi_water > 0:\n",
    "            w_dict[w] = 'High Oil and High Water'\n",
    "        elif last_cum_hi_oil <= 0 and last_cum_hi_water > 0:\n",
    "            w_dict[w] = 'Low Oil and High Water'\n",
    "        elif last_cum_hi_oil > 0 and last_cum_hi_water <= 0:\n",
    "            w_dict[w] = 'High Oil and Low Water'\n",
    "        elif last_cum_hi_oil <= 0 and last_cum_hi_water <= 0:\n",
    "            w_dict[w] = 'Low Oil and Low Water'\n",
    "    \n",
    "    return df['well'].map(w_dict)\n",
    "\n",
    "df['class'] = classify(df)"
   ]
  },
  {
   "cell_type": "markdown",
   "metadata": {},
   "source": [
    "# Plot MHI Scatter Plot"
   ]
  },
  {
   "cell_type": "code",
   "execution_count": null,
   "metadata": {},
   "outputs": [],
   "source": [
    "items = [widgets.Button(description=w) for w in df['sand'].unique()]\n",
    "display(widgets.HBox([items[0],items[1]]))\n",
    "\n",
    "fmt='%Y-%m-%d'\n",
    "date_range = pd.date_range(start=df[df['sand']=='CHANNEL']['date'].min(),end=df[df['sand']=='CHANNEL']['date'].max(),freq='MS')\n",
    "options = [(item.strftime(fmt),item) for item in date_range]\n",
    "\n",
    "slider = widgets.SelectionSlider(\n",
    "    description='Date',\n",
    "    options=options,\n",
    "    continuous_update=False\n",
    ") \n",
    "\n",
    "hue_dict = {\n",
    "    'High Oil and Low Water': 'g',\n",
    "    'Low Oil and High Water': 'brown',\n",
    "    'High Oil and High Water': 'b',\n",
    "    'Low Oil and Low Water': 'r'\n",
    "}\n",
    "\n",
    "def update(sand,date):\n",
    "    plt.figure(figsize=(10,10))\n",
    "    plt.xlim(-30,70)\n",
    "    plt.ylim(-30,130)\n",
    "    plt.axvline(0,color='black')\n",
    "    plt.axhline(0,color='black')\n",
    "    sns.scatterplot('cum_hi_oil','cum_hi_water',data=df[(df['sand']==sand)&(df['date']==date)],\n",
    "                    hue='class', palette=hue_dict,s=50)\n",
    "    plt.legend(loc=1)\n",
    "\n",
    "\n",
    "def scatter(b):\n",
    "    clear_output(wait=True)\n",
    "    display(widgets.HBox([items[0],items[1]]))\n",
    "    interactive_plot = interactive(update,date=slider,sand=fixed(b.description))\n",
    "    display(interactive_plot)\n",
    "\n",
    "    \n",
    "items[0].on_click(scatter)\n",
    "items[1].on_click(scatter)\n"
   ]
  },
  {
   "cell_type": "code",
   "execution_count": null,
   "metadata": {},
   "outputs": [],
   "source": []
  }
 ],
 "metadata": {
  "kernelspec": {
   "display_name": "Python 3",
   "language": "python",
   "name": "python3"
  },
  "language_info": {
   "codemirror_mode": {
    "name": "ipython",
    "version": 3
   },
   "file_extension": ".py",
   "mimetype": "text/x-python",
   "name": "python",
   "nbconvert_exporter": "python",
   "pygments_lexer": "ipython3",
   "version": "3.7.3"
  }
 },
 "nbformat": 4,
 "nbformat_minor": 2
}
